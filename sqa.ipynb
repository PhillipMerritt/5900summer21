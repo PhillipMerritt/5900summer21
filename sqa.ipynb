{
 "cells": [
  {
   "cell_type": "code",
   "execution_count": 5,
   "source": [
    "import tensorflow.compat.v1 as tf\r\n",
    "import os \r\n",
    "import shutil\r\n",
    "import csv\r\n",
    "import pandas as pd\r\n",
    "import IPython\r\n",
    "\r\n",
    "tf.get_logger().setLevel('ERROR')"
   ],
   "outputs": [],
   "metadata": {}
  },
  {
   "cell_type": "code",
   "execution_count": null,
   "source": [
    "from tapas.utils import tf_example_utils\r\n",
    "from tapas.protos import interaction_pb2\r\n",
    "from tapas.utils import number_annotation_utils\r\n",
    "from tapas.scripts import prediction_utils"
   ],
   "outputs": [],
   "metadata": {}
  },
  {
   "cell_type": "code",
   "execution_count": 3,
   "source": [
    "from tapas.utils import sqa_utils, interaction_utils"
   ],
   "outputs": [],
   "metadata": {}
  },
  {
   "cell_type": "code",
   "execution_count": 8,
   "source": [
    "with tf.io.gfile.GFile('data/SQA/random-split-1-dev.tsv', 'r') as file_handle:\r\n",
    "    questions = interaction_utils.read_from_tsv_file(file_handle)"
   ],
   "outputs": [],
   "metadata": {}
  },
  {
   "cell_type": "code",
   "execution_count": null,
   "source": [
    "questions[0]"
   ],
   "outputs": [],
   "metadata": {}
  },
  {
   "cell_type": "code",
   "execution_count": 7,
   "source": [
    "from importlib import reload "
   ],
   "outputs": [],
   "metadata": {}
  },
  {
   "cell_type": "code",
   "execution_count": 9,
   "source": [
    "import table\r\n",
    "import intermediate_pretrain_synthetic\r\n",
    "from intermediate_pretrain_synthetic import CFG"
   ],
   "outputs": [],
   "metadata": {}
  },
  {
   "cell_type": "code",
   "execution_count": 243,
   "source": [
    "table = reload(table)\r\n",
    "import table\r\n",
    "\r\n",
    "i+=1\r\n",
    "t = table.load_table(wnums[i])\r\n",
    "t.df"
   ],
   "outputs": [
    {
     "output_type": "execute_result",
     "data": {
      "text/plain": [
       "                                 Service  2012/13 Total Cost (PSmillion)  \\\n",
       "0                            BBC Radio 1                            54.2   \n",
       "1                        BBC Radio 1Xtra                            11.8   \n",
       "2                            BBC Radio 2                            62.1   \n",
       "3                            BBC Radio 3                            54.3   \n",
       "4                            BBC Radio 4                           122.1   \n",
       "5                      BBC Radio 4 Extra                             7.2   \n",
       "6                       BBC Radio 5 Live                            76.0   \n",
       "7          BBC Radio 5 Live Sports Extra                             5.6   \n",
       "8                      BBC Radio 6 Music                            11.5   \n",
       "9                      BBC Asian Network                            13.0   \n",
       "10                       BBC Local Radio                           152.5   \n",
       "11                    BBC Radio Scotland                            32.7   \n",
       "12                BBC Radio nan Gaidheal                             6.3   \n",
       "13                       BBC Radio Wales                            18.8   \n",
       "14                       BBC Radio Cymru                            17.6   \n",
       "15  BBC Radio Ulster and BBC Radio Foyle                            23.8   \n",
       "16                                 Total                           669.5   \n",
       "\n",
       "   Comparison with 2011/12 (PSmillion)  \n",
       "0                                + 3.6  \n",
       "1                                + 0.7  \n",
       "2                                + 1.6  \n",
       "3                                + 1.8  \n",
       "4                                + 6.2  \n",
       "5                                  - 1  \n",
       "6                                + 6.7  \n",
       "7                                + 0.3  \n",
       "8                                - 0.2  \n",
       "9                                    0  \n",
       "10                                 + 6  \n",
       "11                               + 0.6  \n",
       "12                               + 0.3  \n",
       "13                               + 1.1  \n",
       "14                               + 1.7  \n",
       "15                                   0  \n",
       "16                              + 29.4  "
      ],
      "text/html": [
       "<div>\n",
       "<style scoped>\n",
       "    .dataframe tbody tr th:only-of-type {\n",
       "        vertical-align: middle;\n",
       "    }\n",
       "\n",
       "    .dataframe tbody tr th {\n",
       "        vertical-align: top;\n",
       "    }\n",
       "\n",
       "    .dataframe thead th {\n",
       "        text-align: right;\n",
       "    }\n",
       "</style>\n",
       "<table border=\"1\" class=\"dataframe\">\n",
       "  <thead>\n",
       "    <tr style=\"text-align: right;\">\n",
       "      <th></th>\n",
       "      <th>Service</th>\n",
       "      <th>2012/13 Total Cost (PSmillion)</th>\n",
       "      <th>Comparison with 2011/12 (PSmillion)</th>\n",
       "    </tr>\n",
       "  </thead>\n",
       "  <tbody>\n",
       "    <tr>\n",
       "      <th>0</th>\n",
       "      <td>BBC Radio 1</td>\n",
       "      <td>54.2</td>\n",
       "      <td>+ 3.6</td>\n",
       "    </tr>\n",
       "    <tr>\n",
       "      <th>1</th>\n",
       "      <td>BBC Radio 1Xtra</td>\n",
       "      <td>11.8</td>\n",
       "      <td>+ 0.7</td>\n",
       "    </tr>\n",
       "    <tr>\n",
       "      <th>2</th>\n",
       "      <td>BBC Radio 2</td>\n",
       "      <td>62.1</td>\n",
       "      <td>+ 1.6</td>\n",
       "    </tr>\n",
       "    <tr>\n",
       "      <th>3</th>\n",
       "      <td>BBC Radio 3</td>\n",
       "      <td>54.3</td>\n",
       "      <td>+ 1.8</td>\n",
       "    </tr>\n",
       "    <tr>\n",
       "      <th>4</th>\n",
       "      <td>BBC Radio 4</td>\n",
       "      <td>122.1</td>\n",
       "      <td>+ 6.2</td>\n",
       "    </tr>\n",
       "    <tr>\n",
       "      <th>5</th>\n",
       "      <td>BBC Radio 4 Extra</td>\n",
       "      <td>7.2</td>\n",
       "      <td>- 1</td>\n",
       "    </tr>\n",
       "    <tr>\n",
       "      <th>6</th>\n",
       "      <td>BBC Radio 5 Live</td>\n",
       "      <td>76.0</td>\n",
       "      <td>+ 6.7</td>\n",
       "    </tr>\n",
       "    <tr>\n",
       "      <th>7</th>\n",
       "      <td>BBC Radio 5 Live Sports Extra</td>\n",
       "      <td>5.6</td>\n",
       "      <td>+ 0.3</td>\n",
       "    </tr>\n",
       "    <tr>\n",
       "      <th>8</th>\n",
       "      <td>BBC Radio 6 Music</td>\n",
       "      <td>11.5</td>\n",
       "      <td>- 0.2</td>\n",
       "    </tr>\n",
       "    <tr>\n",
       "      <th>9</th>\n",
       "      <td>BBC Asian Network</td>\n",
       "      <td>13.0</td>\n",
       "      <td>0</td>\n",
       "    </tr>\n",
       "    <tr>\n",
       "      <th>10</th>\n",
       "      <td>BBC Local Radio</td>\n",
       "      <td>152.5</td>\n",
       "      <td>+ 6</td>\n",
       "    </tr>\n",
       "    <tr>\n",
       "      <th>11</th>\n",
       "      <td>BBC Radio Scotland</td>\n",
       "      <td>32.7</td>\n",
       "      <td>+ 0.6</td>\n",
       "    </tr>\n",
       "    <tr>\n",
       "      <th>12</th>\n",
       "      <td>BBC Radio nan Gaidheal</td>\n",
       "      <td>6.3</td>\n",
       "      <td>+ 0.3</td>\n",
       "    </tr>\n",
       "    <tr>\n",
       "      <th>13</th>\n",
       "      <td>BBC Radio Wales</td>\n",
       "      <td>18.8</td>\n",
       "      <td>+ 1.1</td>\n",
       "    </tr>\n",
       "    <tr>\n",
       "      <th>14</th>\n",
       "      <td>BBC Radio Cymru</td>\n",
       "      <td>17.6</td>\n",
       "      <td>+ 1.7</td>\n",
       "    </tr>\n",
       "    <tr>\n",
       "      <th>15</th>\n",
       "      <td>BBC Radio Ulster and BBC Radio Foyle</td>\n",
       "      <td>23.8</td>\n",
       "      <td>0</td>\n",
       "    </tr>\n",
       "    <tr>\n",
       "      <th>16</th>\n",
       "      <td>Total</td>\n",
       "      <td>669.5</td>\n",
       "      <td>+ 29.4</td>\n",
       "    </tr>\n",
       "  </tbody>\n",
       "</table>\n",
       "</div>"
      ]
     },
     "metadata": {},
     "execution_count": 243
    }
   ],
   "metadata": {}
  },
  {
   "cell_type": "code",
   "execution_count": 251,
   "source": [
    "intermediate_pretrain_synthetic = reload(intermediate_pretrain_synthetic)\r\n",
    "from intermediate_pretrain_synthetic import CFG\r\n",
    "cfg = CFG(True, t)\r\n",
    "t_statement = cfg.get_statement()\r\n",
    "cfg.result = False\r\n",
    "f_statement = cfg.get_statement()\r\n",
    "print(t_statement)\r\n",
    "print(f_statement)"
   ],
   "outputs": [
    {
     "output_type": "stream",
     "name": "stdout",
     "text": [
      "aggregate empty list\n",
      "2012/13 Total Cost (PSmillion) when 2012/13 Total Cost (PSmillion) is less than 669.5 and 2012/13 Total Cost (PSmillion) is greater than 54.2 is less than 669.5\n",
      "the count when 2012/13 Total Cost (PSmillion) is greater than 11.5 is 1\n"
     ]
    }
   ],
   "metadata": {}
  },
  {
   "cell_type": "code",
   "execution_count": 245,
   "source": [
    "t.numeric_columns"
   ],
   "outputs": [
    {
     "output_type": "execute_result",
     "data": {
      "text/plain": [
       "{'2012/13 Total Cost (PSmillion)'}"
      ]
     },
     "metadata": {},
     "execution_count": 245
    }
   ],
   "metadata": {}
  },
  {
   "cell_type": "code",
   "execution_count": 168,
   "source": [
    "import os\r\n",
    "table = reload(table)\r\n",
    "filenames = os.listdir('data/SQA/table_csv/')\r\n",
    "wnums = []\r\n",
    "count = 0\r\n",
    "for name in filenames:\r\n",
    "    t = table.load_table('data/SQA/table_csv/' + name)\r\n",
    "    if len(t.numeric_columns) > 0:\r\n",
    "        count += 1\r\n",
    "        wnums.append('data/SQA/table_csv/' + name)\r\n",
    "\r\n",
    "print(count, len(filenames))"
   ],
   "outputs": [
    {
     "output_type": "stream",
     "name": "stdout",
     "text": [
      "626 982\n"
     ]
    }
   ],
   "metadata": {}
  },
  {
   "cell_type": "code",
   "execution_count": 154,
   "source": [
    "t.df"
   ],
   "outputs": [
    {
     "output_type": "execute_result",
     "data": {
      "text/plain": [
       "    Season         Competition       Round                  Club Home Away  \\\n",
       "0     2003  UEFA Intertoto Cup          R1           WIT Georgia  1-0  1-2   \n",
       "1                                       R2             FK Pobeda  2-1  1-1   \n",
       "2                                       R3        Tobol Kostanay  3-0  1-0   \n",
       "3                               Semifinals         Werder Bremen  4-0  1-1   \n",
       "4                                   Finals         FC Schalke 04  0-2  0-0   \n",
       "5  2004/05            UEFA Cup          Q2  Zenit St. Petersburg  3-1  0-2   \n",
       "6  2005/06            UEFA Cup          Q2  Zenit St. Petersburg  2-2  1-1   \n",
       "7  2006/07            UEFA Cup           1               Livorno  0-1  0-2   \n",
       "\n",
       "  Aggregate  \n",
       "0       2-2  \n",
       "1       3-2  \n",
       "2       4-0  \n",
       "3       5-1  \n",
       "4       0-2  \n",
       "5       3-3  \n",
       "6       3-3  \n",
       "7       0-3  "
      ],
      "text/html": [
       "<div>\n",
       "<style scoped>\n",
       "    .dataframe tbody tr th:only-of-type {\n",
       "        vertical-align: middle;\n",
       "    }\n",
       "\n",
       "    .dataframe tbody tr th {\n",
       "        vertical-align: top;\n",
       "    }\n",
       "\n",
       "    .dataframe thead th {\n",
       "        text-align: right;\n",
       "    }\n",
       "</style>\n",
       "<table border=\"1\" class=\"dataframe\">\n",
       "  <thead>\n",
       "    <tr style=\"text-align: right;\">\n",
       "      <th></th>\n",
       "      <th>Season</th>\n",
       "      <th>Competition</th>\n",
       "      <th>Round</th>\n",
       "      <th>Club</th>\n",
       "      <th>Home</th>\n",
       "      <th>Away</th>\n",
       "      <th>Aggregate</th>\n",
       "    </tr>\n",
       "  </thead>\n",
       "  <tbody>\n",
       "    <tr>\n",
       "      <th>0</th>\n",
       "      <td>2003</td>\n",
       "      <td>UEFA Intertoto Cup</td>\n",
       "      <td>R1</td>\n",
       "      <td>WIT Georgia</td>\n",
       "      <td>1-0</td>\n",
       "      <td>1-2</td>\n",
       "      <td>2-2</td>\n",
       "    </tr>\n",
       "    <tr>\n",
       "      <th>1</th>\n",
       "      <td></td>\n",
       "      <td></td>\n",
       "      <td>R2</td>\n",
       "      <td>FK Pobeda</td>\n",
       "      <td>2-1</td>\n",
       "      <td>1-1</td>\n",
       "      <td>3-2</td>\n",
       "    </tr>\n",
       "    <tr>\n",
       "      <th>2</th>\n",
       "      <td></td>\n",
       "      <td></td>\n",
       "      <td>R3</td>\n",
       "      <td>Tobol Kostanay</td>\n",
       "      <td>3-0</td>\n",
       "      <td>1-0</td>\n",
       "      <td>4-0</td>\n",
       "    </tr>\n",
       "    <tr>\n",
       "      <th>3</th>\n",
       "      <td></td>\n",
       "      <td></td>\n",
       "      <td>Semifinals</td>\n",
       "      <td>Werder Bremen</td>\n",
       "      <td>4-0</td>\n",
       "      <td>1-1</td>\n",
       "      <td>5-1</td>\n",
       "    </tr>\n",
       "    <tr>\n",
       "      <th>4</th>\n",
       "      <td></td>\n",
       "      <td></td>\n",
       "      <td>Finals</td>\n",
       "      <td>FC Schalke 04</td>\n",
       "      <td>0-2</td>\n",
       "      <td>0-0</td>\n",
       "      <td>0-2</td>\n",
       "    </tr>\n",
       "    <tr>\n",
       "      <th>5</th>\n",
       "      <td>2004/05</td>\n",
       "      <td>UEFA Cup</td>\n",
       "      <td>Q2</td>\n",
       "      <td>Zenit St. Petersburg</td>\n",
       "      <td>3-1</td>\n",
       "      <td>0-2</td>\n",
       "      <td>3-3</td>\n",
       "    </tr>\n",
       "    <tr>\n",
       "      <th>6</th>\n",
       "      <td>2005/06</td>\n",
       "      <td>UEFA Cup</td>\n",
       "      <td>Q2</td>\n",
       "      <td>Zenit St. Petersburg</td>\n",
       "      <td>2-2</td>\n",
       "      <td>1-1</td>\n",
       "      <td>3-3</td>\n",
       "    </tr>\n",
       "    <tr>\n",
       "      <th>7</th>\n",
       "      <td>2006/07</td>\n",
       "      <td>UEFA Cup</td>\n",
       "      <td>1</td>\n",
       "      <td>Livorno</td>\n",
       "      <td>0-1</td>\n",
       "      <td>0-2</td>\n",
       "      <td>0-3</td>\n",
       "    </tr>\n",
       "  </tbody>\n",
       "</table>\n",
       "</div>"
      ]
     },
     "metadata": {},
     "execution_count": 154
    }
   ],
   "metadata": {}
  },
  {
   "cell_type": "code",
   "execution_count": 89,
   "source": [
    "iter(1)"
   ],
   "outputs": [
    {
     "output_type": "error",
     "ename": "TypeError",
     "evalue": "'int' object is not iterable",
     "traceback": [
      "\u001b[1;31m---------------------------------------------------------------------------\u001b[0m",
      "\u001b[1;31mTypeError\u001b[0m                                 Traceback (most recent call last)",
      "\u001b[1;32m~\\AppData\\Local\\Temp/ipykernel_2364/1583406777.py\u001b[0m in \u001b[0;36m<module>\u001b[1;34m\u001b[0m\n\u001b[1;32m----> 1\u001b[1;33m \u001b[0miter\u001b[0m\u001b[1;33m(\u001b[0m\u001b[1;36m1\u001b[0m\u001b[1;33m)\u001b[0m\u001b[1;33m\u001b[0m\u001b[1;33m\u001b[0m\u001b[0m\n\u001b[0m",
      "\u001b[1;31mTypeError\u001b[0m: 'int' object is not iterable"
     ]
    }
   ],
   "metadata": {}
  },
  {
   "cell_type": "code",
   "execution_count": 175,
   "source": [
    "import random\r\n",
    "max([random.randint(0,2) for _ in range(10000)])"
   ],
   "outputs": [
    {
     "output_type": "execute_result",
     "data": {
      "text/plain": [
       "2"
      ]
     },
     "metadata": {},
     "execution_count": 175
    }
   ],
   "metadata": {}
  },
  {
   "cell_type": "code",
   "execution_count": 276,
   "source": [
    "from tqdm import tqdm\r\n",
    "import pandas as pd\r\n",
    "import os\r\n",
    "table = reload(table)\r\n",
    "intermediate_pretrain_synthetic = reload(intermediate_pretrain_synthetic)\r\n",
    "from intermediate_pretrain_synthetic import CFG\r\n",
    "\r\n",
    "filenames = os.listdir('data/SQA/table_csv/')\r\n",
    "data = ['name', 'result', 'statement']\r\n",
    "for name in tqdm(filenames):\r\n",
    "    t = table.load_table('data/SQA/table_csv/' + name)\r\n",
    "    cfg = CFG(True, t)\r\n",
    "    results = []\r\n",
    "    for result in [True, True, False, False]:\r\n",
    "        cfg.result = result\r\n",
    "        statement = cfg.get_statement()\r\n",
    "        if statement != None:\r\n",
    "            if statement in results:\r\n",
    "                statement = cfg.get_statement()\r\n",
    "            if statement not in results:\r\n",
    "                results.append((result, statement))\r\n",
    "\r\n",
    "    if results:\r\n",
    "        data.extend([[name, result, statement] for result, statement in results])"
   ],
   "outputs": [
    {
     "output_type": "stream",
     "name": "stderr",
     "text": [
      "100%|██████████| 982/982 [00:27<00:00, 36.16it/s]\n"
     ]
    }
   ],
   "metadata": {}
  },
  {
   "cell_type": "code",
   "execution_count": 277,
   "source": [
    "len(data)"
   ],
   "outputs": [
    {
     "output_type": "execute_result",
     "data": {
      "text/plain": [
       "3927"
      ]
     },
     "metadata": {},
     "execution_count": 277
    }
   ],
   "metadata": {}
  },
  {
   "cell_type": "code",
   "execution_count": 266,
   "source": [
    "import numpy as np\r\n",
    "a = np.array([1,1,1])\r\n",
    "b = np.array([3,2,1])\r\n",
    "\r\n",
    "(a == 1).all()"
   ],
   "outputs": [
    {
     "output_type": "execute_result",
     "data": {
      "text/plain": [
       "True"
      ]
     },
     "metadata": {},
     "execution_count": 266
    }
   ],
   "metadata": {}
  },
  {
   "cell_type": "code",
   "execution_count": 267,
   "source": [
    "a = set([3,2,1])\r\n",
    "b = set([1,2,3])\r\n",
    "\r\n",
    "a == b"
   ],
   "outputs": [
    {
     "output_type": "execute_result",
     "data": {
      "text/plain": [
       "True"
      ]
     },
     "metadata": {},
     "execution_count": 267
    }
   ],
   "metadata": {}
  },
  {
   "cell_type": "code",
   "execution_count": 268,
   "source": [],
   "outputs": [
    {
     "output_type": "error",
     "ename": "TypeError",
     "evalue": "'int' object is not iterable",
     "traceback": [
      "\u001b[1;31m---------------------------------------------------------------------------\u001b[0m",
      "\u001b[1;31mTypeError\u001b[0m                                 Traceback (most recent call last)",
      "\u001b[1;32m~\\AppData\\Local\\Temp/ipykernel_2364/2363595463.py\u001b[0m in \u001b[0;36m<module>\u001b[1;34m\u001b[0m\n\u001b[1;32m----> 1\u001b[1;33m \u001b[0mset\u001b[0m\u001b[1;33m(\u001b[0m\u001b[1;36m1\u001b[0m\u001b[1;33m)\u001b[0m\u001b[1;33m\u001b[0m\u001b[1;33m\u001b[0m\u001b[0m\n\u001b[0m",
      "\u001b[1;31mTypeError\u001b[0m: 'int' object is not iterable"
     ]
    }
   ],
   "metadata": {}
  },
  {
   "cell_type": "code",
   "execution_count": 278,
   "source": [
    "from tapas.utils import tf_example_utils\r\n",
    "from tapas.protos import interaction_pb2\r\n",
    "from tapas.utils import number_annotation_utils\r\n",
    "from tapas.scripts import prediction_utils"
   ],
   "outputs": [],
   "metadata": {}
  },
  {
   "cell_type": "code",
   "execution_count": 307,
   "source": [
    "max_seq_length = 512\r\n",
    "vocab_file = \"data/models/tapas_masklm_medium_reset/vocab.txt\"\r\n",
    "config = tf_example_utils.ClassifierConversionConfig(\r\n",
    "    vocab_file=vocab_file,\r\n",
    "    max_seq_length=max_seq_length,\r\n",
    "    max_column_id=max_seq_length,\r\n",
    "    max_row_id=max_seq_length,\r\n",
    "    strip_column_names=False,\r\n",
    "    add_aggregation_candidates=False,\r\n",
    ")\r\n",
    "converter = tf_example_utils.ToClassifierTensorflowExample(config)\r\n",
    "\r\n",
    "def convert_interactions_to_examples(tables_and_queries):\r\n",
    "  \"\"\"Calls Tapas converter to convert interaction to example.\"\"\"\r\n",
    "  for idx, (table, queries) in enumerate(tables_and_queries):\r\n",
    "    interaction = interaction_pb2.Interaction()\r\n",
    "    for position, query in enumerate(queries):\r\n",
    "      question = interaction.questions.add()\r\n",
    "      question.original_text = query\r\n",
    "      question.id = f\"{idx}-0_{position}\"\r\n",
    "    for header in table[0]:\r\n",
    "      interaction.table.columns.add().text = header\r\n",
    "    for line in table[1:]:\r\n",
    "      row = interaction.table.rows.add()\r\n",
    "      for cell in line:\r\n",
    "        row.cells.add().text = cell\r\n",
    "    number_annotation_utils.add_numeric_values(interaction)\r\n",
    "    for i in range(len(interaction.questions)):\r\n",
    "      try:\r\n",
    "        yield converter.convert(interaction, i)\r\n",
    "      except ValueError as e:\r\n",
    "        print(f\"Can't convert interaction: {interaction.id} error: {e}\")"
   ],
   "outputs": [],
   "metadata": {}
  },
  {
   "cell_type": "code",
   "execution_count": 293,
   "source": [
    "data[3]"
   ],
   "outputs": [
    {
     "output_type": "execute_result",
     "data": {
      "text/plain": [
       "['200_12.csv', True, 'the count when Award is Tony Award is 4']"
      ]
     },
     "metadata": {},
     "execution_count": 293
    }
   ],
   "metadata": {}
  },
  {
   "cell_type": "code",
   "execution_count": 294,
   "source": [
    "from collections import defaultdict\r\n",
    "synth_data = defaultdict(list)\r\n",
    "\r\n",
    "for name, result, statement in data[3:]:\r\n",
    "    synth_data[name].append((result, statement))"
   ],
   "outputs": [],
   "metadata": {}
  },
  {
   "cell_type": "code",
   "execution_count": 323,
   "source": [
    "from tapas.utils import interaction_utils\r\n",
    "interactions = []\r\n",
    "for name in os.listdir('data/SQA/'):\r\n",
    "    if 'random' in name and 'dev' in name:\r\n",
    "        with open('data/SQA/' + name, 'r') as file:\r\n",
    "            interactions.extend(interaction_utils.read_from_tsv_file(file))"
   ],
   "outputs": [],
   "metadata": {}
  },
  {
   "cell_type": "code",
   "execution_count": 314,
   "source": [
    "interactions[0].table.table_id[10:]"
   ],
   "outputs": [
    {
     "output_type": "execute_result",
     "data": {
      "text/plain": [
       "'203_583.csv'"
      ]
     },
     "metadata": {},
     "execution_count": 314
    }
   ],
   "metadata": {}
  },
  {
   "cell_type": "code",
   "execution_count": 302,
   "source": [
    "from tapas.utils import text_utils\r\n",
    "from tapas.utils.synthesize_entablement import _from_table_proto, _to_table_proto\r\n",
    "\r\n",
    "def synthesize_from_interaction(\r\n",
    "    interaction,\r\n",
    "    statements\r\n",
    "):\r\n",
    "  \"\"\"Synthesizes up to for new statements for a given interaction.\r\n",
    "\r\n",
    "  Args:\r\n",
    "    config: Specifies sampling hyper-parameters.\r\n",
    "    rng: A random number generator.\r\n",
    "    interaction: Table will be used to generate random statements.\r\n",
    "    counter: For aggregating statistics.\r\n",
    "    add_opposite_table: If true, add opposite table.\r\n",
    "\r\n",
    "  Returns:\r\n",
    "    A list of up to 4 statements.\r\n",
    "\r\n",
    "  Attempts to synthesize one positive and one negative statement.\r\n",
    "  For each statement attempts to generate a table with the opposite outcome.\r\n",
    "  \"\"\"\r\n",
    "  table = _from_table_proto(interaction.table)\r\n",
    "\r\n",
    "  def get_interaction(interaction, table, statement, result, name):\r\n",
    "    new_interaction = interaction_pb2.Interaction()\r\n",
    "    if interaction.id:\r\n",
    "      new_interaction.id = interaction.id\r\n",
    "    else:\r\n",
    "      new_interaction.id = interaction.table.table_id\r\n",
    "    new_interaction.table.CopyFrom(_to_table_proto(table))\r\n",
    "    new_interaction.table.table_id = interaction.table.table_id\r\n",
    "    new_question = new_interaction.questions.add()\r\n",
    "    new_question.id = new_interaction.id + '_' + name\r\n",
    "    new_question.original_text = statement\r\n",
    "    new_question.text = text_utils.normalize_for_match(\r\n",
    "        new_question.original_text)\r\n",
    "    if result == True:\r\n",
    "      new_question.answer.class_index = 1\r\n",
    "    elif result == False:\r\n",
    "      new_question.answer.class_index = 0\r\n",
    "    else:\r\n",
    "      raise ValueError('Unexpected: {result}')\r\n",
    "    return new_interaction\r\n",
    "\r\n",
    "  interactions = []\r\n",
    "\r\n",
    "  for i, (result, statement) in enumerate(statements):\r\n",
    "      interactions.append(\r\n",
    "          get_interaction(interaction, table, statement,\r\n",
    "                          result, '{}{}'.format(result, i)))\r\n",
    "      \r\n",
    "\r\n",
    "  return interactions"
   ],
   "outputs": [],
   "metadata": {}
  },
  {
   "cell_type": "code",
   "execution_count": 324,
   "source": [
    "synth_interactions = []"
   ],
   "outputs": [],
   "metadata": {}
  },
  {
   "cell_type": "code",
   "execution_count": 326,
   "source": [
    "synth_interactions = []\r\n",
    "for interaction in tqdm(interactions):\r\n",
    "    name = interaction.table.table_id[10:]\r\n",
    "    synth_interactions.extend(synthesize_from_interaction(interaction, synth_data[name]))"
   ],
   "outputs": [
    {
     "output_type": "stream",
     "name": "stderr",
     "text": [
      "100%|██████████| 3891/3891 [00:00<00:00, 18489.52it/s]\n"
     ]
    }
   ],
   "metadata": {}
  },
  {
   "cell_type": "code",
   "execution_count": 325,
   "source": [
    "len(synth_interactions)"
   ],
   "outputs": [
    {
     "output_type": "execute_result",
     "data": {
      "text/plain": [
       "0"
      ]
     },
     "metadata": {},
     "execution_count": 325
    }
   ],
   "metadata": {}
  },
  {
   "cell_type": "code",
   "execution_count": 327,
   "source": [
    "converted_interactions = []\r\n",
    "for interaction in tqdm(synth_interactions):\r\n",
    "    for i in range(len(interaction.questions)):\r\n",
    "      try:\r\n",
    "        converted_interactions.append(converter.convert(interaction, i))\r\n",
    "      except ValueError as e:\r\n",
    "        print(f\"Can't convert interaction: {interaction.id} error: {e}\") "
   ],
   "outputs": [
    {
     "output_type": "stream",
     "name": "stderr",
     "text": [
      "100%|██████████| 15534/15534 [00:37<00:00, 413.41it/s]\n"
     ]
    }
   ],
   "metadata": {}
  },
  {
   "cell_type": "code",
   "execution_count": 310,
   "source": [
    "def write_tf_example(filename, examples):\r\n",
    "  with tf.io.TFRecordWriter(filename) as writer:\r\n",
    "    for example in examples:\r\n",
    "      writer.write(example.SerializeToString())"
   ],
   "outputs": [],
   "metadata": {}
  },
  {
   "cell_type": "code",
   "execution_count": 328,
   "source": [
    "import tensorflow.compat.v1 as tf\r\n",
    "write_tf_example('data/intermediate_data/dev.tfrecord', converted_interactions)"
   ],
   "outputs": [],
   "metadata": {}
  },
  {
   "cell_type": "code",
   "execution_count": null,
   "source": [],
   "outputs": [],
   "metadata": {}
  }
 ],
 "metadata": {
  "orig_nbformat": 4,
  "language_info": {
   "name": "python",
   "version": "3.8.5",
   "mimetype": "text/x-python",
   "codemirror_mode": {
    "name": "ipython",
    "version": 3
   },
   "pygments_lexer": "ipython3",
   "nbconvert_exporter": "python",
   "file_extension": ".py"
  },
  "kernelspec": {
   "name": "python3",
   "display_name": "Python 3.8.5 64-bit ('env': venv)"
  },
  "interpreter": {
   "hash": "bfa34e7ca89640174983dcf10850eac5a46df4ab238c76c9031c4afc8e22eaf5"
  }
 },
 "nbformat": 4,
 "nbformat_minor": 2
}